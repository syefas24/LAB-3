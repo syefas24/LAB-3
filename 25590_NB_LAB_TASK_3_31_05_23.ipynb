{
  "nbformat": 4,
  "nbformat_minor": 0,
  "metadata": {
    "colab": {
      "provenance": [],
      "authorship_tag": "ABX9TyOcnAlAz2Q7tqrgjiLthopk",
      "include_colab_link": true
    },
    "kernelspec": {
      "name": "python3",
      "display_name": "Python 3"
    },
    "language_info": {
      "name": "python"
    }
  },
  "cells": [
    {
      "cell_type": "markdown",
      "metadata": {
        "id": "view-in-github",
        "colab_type": "text"
      },
      "source": [
        "<a href=\"https://colab.research.google.com/github/syefas24/LAB-3/blob/main/25590_NB_LAB_TASK_3_31_05_23.ipynb\" target=\"_parent\"><img src=\"https://colab.research.google.com/assets/colab-badge.svg\" alt=\"Open In Colab\"/></a>"
      ]
    },
    {
      "cell_type": "code",
      "execution_count": null,
      "metadata": {
        "id": "oqWXVglzZtrQ"
      },
      "outputs": [],
      "source": [
        "import numpy as np\n",
        "import pandas as pd\n",
        "from sklearn.feature_extraction.text import CountVectorizer\n",
        "from sklearn.naive_bayes import MultinomialNB\n",
        "from sklearn.metrics import accuracy_score\n",
        "df1 = pd.read_csv(\"text.csv\") \n",
        "df1\n",
        "df1['Class'] = df1.Class.map({'cinemaa':0, 'education':1})\n",
        "df1\n",
        "X= df1['Document'].to_numpy()\n",
        "Y = df1['Class'].to_numpy()\n",
        "Y = Y.astype('int')\n",
        "print(\"X\")\n",
        "print(X)\n",
        "print(\"y\")\n",
        "print(Y)\n",
        "vec = CountVectorizer( )\n",
        "vec.fit(x)\n",
        "vec.vocabulary_\n",
        "vec = CountVectorizer(stop_words='english')\n",
        "vec.fit(X)\n",
        "vec.vocabulary_\n",
        "\n",
        "print(vec.get_feature_names_out())\n",
        "print(len(vec.get_feature_names_out()))\n",
        "X_transformed=vec.transform(X)\n",
        "X_transformed\n",
        "X=X_transformed.toarray()\n",
        "X\n",
        "pd.DataFrame(X, columns=vec.get_feature_names_out())\n",
        "df2 = pd.read_csv('test_text.csv') \n",
        "df2\n",
        "test_numpy_array = df2.values\n",
        "X_test = test_numpy_array[:, 0]\n",
        "y_test = test_numpy_array[:, 1]\n",
        "y_test = y_test.astype('int')\n",
        "print(\"X_test\", X_test)\n",
        "X_test_transformed=vec.transform(X_test)\n",
        "X_test_transformed\n",
        "X_test=X_test_transformed.toarray()\n",
        "X_test\n",
        "mnb=MultinomialNB()\n",
        "\n",
        "mnb.fit(X,Y)\n",
        "\n",
        "mnb.predict_proba(X_test)\n",
        "y_prediction = mnb.predict(X_test)\n",
        "\n",
        "\n",
        "acc = accuracy_score(y_test, y_prediction)\n",
        "\n",
        "\n",
        "print(\"Accuracy:\", acc)\n"
      ]
    }
  ]
}